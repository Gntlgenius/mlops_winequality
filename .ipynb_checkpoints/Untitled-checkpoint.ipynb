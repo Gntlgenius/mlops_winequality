{
 "cells": [
  {
   "cell_type": "code",
   "execution_count": 1,
   "id": "281b7dac",
   "metadata": {},
   "outputs": [],
   "source": [
    "data = \"king\"\n",
    "\n",
    "def find_data(input_=data):\n",
    "    return input_"
   ]
  },
  {
   "cell_type": "code",
   "execution_count": 6,
   "id": "ec6f9004",
   "metadata": {},
   "outputs": [
    {
     "data": {
      "text/plain": [
       "'king'"
      ]
     },
     "execution_count": 6,
     "metadata": {},
     "output_type": "execute_result"
    }
   ],
   "source": [
    "find_data()"
   ]
  },
  {
   "cell_type": "code",
   "execution_count": null,
   "id": "b6b4d899",
   "metadata": {},
   "outputs": [],
   "source": [
    "from src.get_data import read_params\n",
    "import argparse\n",
    "import mlflow\n",
    "from mlflow.tracking import MlflowClient\n",
    "from pprint import pprint\n",
    "import joblib\n",
    "import os\n",
    "\n",
    "\n",
    "\n",
    "def log_production_model(config_path):\n",
    "    config = read_params(config_path)\n",
    "    \n",
    "    \n",
    "    mlflow_config = config[\"mlflow_config\"] \n",
    "    \n",
    "\n",
    "    model_name = mlflow_config[\"registered_model_name\"]\n",
    "\n",
    "\n",
    "    remote_server_uri = mlflow_config[\"remote_server_uri\"]\n",
    "\n",
    "    mlflow.set_tracking_uri(remote_server_uri)\n",
    "    \n",
    "    \n",
    "    runs = mlflow.search_runs(experiment_ids=1)\n",
    "    lowest = runs[\"metrics.mae\"].sort_values(ascending=True)[0]\n",
    "    lowest_run_id = runs[runs[\"metrics.mae\"] == lowest][\"run_id\"][0]\n",
    "    \n",
    "\n",
    "    client = MlflowClient()\n",
    "    for mv in client.search_model_versions(f\"name='{model_name}'\"):\n",
    "        mv = dict(mv)\n",
    "        \n",
    "        if mv[\"run_id\"] == lowest_run_id:\n",
    "            current_version = mv[\"version\"]\n",
    "            logged_model = mv[\"source\"]\n",
    "            pprint(mv, indent=4)\n",
    "            client.transition_model_version_stage(\n",
    "                name=model_name,\n",
    "                version=current_version,\n",
    "                stage=\"Production\"\n",
    "            )\n",
    "        else:\n",
    "            current_version = mv[\"version\"]\n",
    "            client.transition_model_version_stage(\n",
    "                name=model_name,\n",
    "                version=current_version,\n",
    "                stage=\"Staging\"\n",
    "            )        \n",
    "\n",
    "\n",
    "    loaded_model = mlflow.pyfunc.load_model(logged_model)\n",
    "    \n",
    "    model_path = config[\"webapp_model_dir\"] #\"prediction_service/model\"\n",
    "\n",
    "    joblib.dump(loaded_model, model_path)\n",
    "\n",
    "\n",
    "if __name__ == '__main__':\n",
    "    args = argparse.ArgumentParser()\n",
    "    args.add_argument(\"--config\", default=\"params.yaml\")\n",
    "    parsed_args = args.parse_args()\n",
    "    data = log_production_model(config_path=parsed_args.config)"
   ]
  }
 ],
 "metadata": {
  "kernelspec": {
   "display_name": "Python 3",
   "language": "python",
   "name": "python3"
  },
  "language_info": {
   "codemirror_mode": {
    "name": "ipython",
    "version": 3
   },
   "file_extension": ".py",
   "mimetype": "text/x-python",
   "name": "python",
   "nbconvert_exporter": "python",
   "pygments_lexer": "ipython3",
   "version": "3.6.13"
  }
 },
 "nbformat": 4,
 "nbformat_minor": 5
}
