{
 "cells": [
  {
   "cell_type": "code",
   "execution_count": 1,
   "id": "281b7dac",
   "metadata": {},
   "outputs": [],
   "source": [
    "data = \"king\"\n",
    "\n",
    "def find_data(input_=data):\n",
    "    return input_"
   ]
  },
  {
   "cell_type": "code",
   "execution_count": 6,
   "id": "ec6f9004",
   "metadata": {},
   "outputs": [
    {
     "data": {
      "text/plain": [
       "'king'"
      ]
     },
     "execution_count": 6,
     "metadata": {},
     "output_type": "execute_result"
    }
   ],
   "source": [
    "find_data()"
   ]
  },
  {
   "cell_type": "code",
   "execution_count": null,
   "id": "b6b4d899",
   "metadata": {},
   "outputs": [],
   "source": []
  }
 ],
 "metadata": {
  "kernelspec": {
   "display_name": "Python 3",
   "language": "python",
   "name": "python3"
  },
  "language_info": {
   "codemirror_mode": {
    "name": "ipython",
    "version": 3
   },
   "file_extension": ".py",
   "mimetype": "text/x-python",
   "name": "python",
   "nbconvert_exporter": "python",
   "pygments_lexer": "ipython3",
   "version": "3.6.13"
  }
 },
 "nbformat": 4,
 "nbformat_minor": 5
}
